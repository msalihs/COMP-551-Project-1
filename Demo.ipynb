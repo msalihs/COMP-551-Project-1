{
  "nbformat": 4,
  "nbformat_minor": 0,
  "metadata": {
    "colab": {
      "name": "Assignment 4 - Policy Gradient",
      "version": "0.3.2",
      "provenance": [],
      "collapsed_sections": [],
      "include_colab_link": true
    },
    "kernelspec": {
      "name": "python3",
      "display_name": "Python 3"
    }
  },
  "cells": [
    {
      "cell_type": "markdown",
      "metadata": {
        "id": "view-in-github",
        "colab_type": "text"
      },
      "source": [
        "[View in Colaboratory](https://colab.research.google.com/github/msalihs/COMP-551-Project-1/blob/master/Demo.ipynb)"
      ]
    },
    {
      "metadata": {
        "id": "jLxy-JU8rJTR",
        "colab_type": "text"
      },
      "cell_type": "markdown",
      "source": [
        "# ASSIGNMENT 4 - TRACK 3 \n",
        "\n",
        "## Policy Gradient with Traces\n",
        "\n",
        "## Problem Statement\n",
        "Implement the algorithm shown in the box “Actor-Critic with Eligibility Traces” on page 275 of S&B in an environment of your choice. Compare this algorithm with the following two variants:\n",
        "1. with only a trace on the critic but not the actor\n",
        "2. without any trace using one-step returns\n",
        "\n",
        "Report on the effect of gamma and lambda.\n",
        "\n"
      ]
    },
    {
      "metadata": {
        "id": "DStlrPtntRCt",
        "colab_type": "text"
      },
      "cell_type": "markdown",
      "source": [
        "## Implementation\n",
        "\n",
        "\n",
        "### Algorithm \n",
        "\n",
        "The algorithm in question from S&B book page 275 - Actor-Critic algorithm with Eligibility traces is given below;\n",
        "\n",
        "![alt text](https://preview.ibb.co/iNrB77/Algorithm.png)\n",
        "\n",
        "\n",
        "### Environment\n",
        "As the environment, I chose to use Frozen Lake problem from OpenAI Gym. It's a basic algorithmic environment and it works well in the context of a Web-based Python notebook, such as Google Colab. \n",
        "\n",
        "In a nutshell, the agent controls the movement in a grid world where only some of the tiles are walkable, and others are not. The agent is rewarded for finding a walkable path to a goal tile.\n",
        "\n",
        "For more information on FrozenLakeEnv see [here](https://gym.openai.com/envs/FrozenLake-v0/).\n",
        "\n",
        "### Architecture\n",
        "\n",
        "The policy estimator $\\pi(a|s,\\theta)$ and state-value function estimator $\\hat{v}(s,w)$ are designed as 2 layer neural networks. \n",
        "\n",
        "Tenserflow is used for the implementation. Being a quite versatile programming language, it allows for a lot of configuration while handling all the backpropagation and training of the network. \n",
        "\n",
        "After a brief hyper-parameter tuning, the hidden layer sizes are chosen to be 200 for the first layer and 100 for the second layer for both of the neural-nets. "
      ]
    },
    {
      "metadata": {
        "id": "5aQZFMixPjdf",
        "colab_type": "text"
      },
      "cell_type": "markdown",
      "source": [
        "## Required packages\n",
        "\n",
        "First installing gym and opengl. This is only necessary if it is being run from Google Colab as these libraries are not installed by default and might be needed to re-install whenever a new instance is created. "
      ]
    },
    {
      "metadata": {
        "id": "-8KG439FtQOt",
        "colab_type": "code",
        "colab": {
          "base_uri": "https://localhost:8080/",
          "height": 3216
        },
        "outputId": "8fadbb0a-1197-4df4-d3cc-b2beaa302ea0"
      },
      "cell_type": "code",
      "source": [
        "!pip install gym\n",
        "!apt-get install python-opengl"
      ],
      "execution_count": 1,
      "outputs": [
        {
          "output_type": "stream",
          "text": [
            "Collecting gym\n",
            "  Downloading gym-0.10.5.tar.gz (1.5MB)\n",
            "\u001b[K    100% |████████████████████████████████| 1.5MB 809kB/s \n",
            "\u001b[?25hRequirement already satisfied: numpy>=1.10.4 in /usr/local/lib/python3.6/dist-packages (from gym)\n",
            "Collecting pyglet>=1.2.0 (from gym)\n",
            "  Downloading pyglet-1.3.1-py2.py3-none-any.whl (1.0MB)\n",
            "\u001b[K    100% |████████████████████████████████| 1.0MB 1.3MB/s \n",
            "\u001b[?25hRequirement already satisfied: requests>=2.0 in /usr/local/lib/python3.6/dist-packages (from gym)\n",
            "Requirement already satisfied: six in /usr/local/lib/python3.6/dist-packages (from gym)\n",
            "Requirement already satisfied: future in /usr/local/lib/python3.6/dist-packages (from pyglet>=1.2.0->gym)\n",
            "Requirement already satisfied: chardet<3.1.0,>=3.0.2 in /usr/local/lib/python3.6/dist-packages (from requests>=2.0->gym)\n",
            "Requirement already satisfied: urllib3<1.23,>=1.21.1 in /usr/local/lib/python3.6/dist-packages (from requests>=2.0->gym)\n",
            "Requirement already satisfied: idna<2.7,>=2.5 in /usr/local/lib/python3.6/dist-packages (from requests>=2.0->gym)\n",
            "Requirement already satisfied: certifi>=2017.4.17 in /usr/local/lib/python3.6/dist-packages (from requests>=2.0->gym)\n",
            "Building wheels for collected packages: gym\n",
            "  Running setup.py bdist_wheel for gym ... \u001b[?25l-\b \b\\\b \b|\b \b/\b \bdone\n",
            "\u001b[?25h  Stored in directory: /content/.cache/pip/wheels/f8/88/f2/22e53080a462567706fad31295462941b3b06b16b51c3ab3e1\n",
            "Successfully built gym\n",
            "Installing collected packages: pyglet, gym\n",
            "Successfully installed gym-0.10.5 pyglet-1.3.1\n",
            "Reading package lists... Done\n",
            "Building dependency tree       \n",
            "Reading state information... Done\n",
            "The following additional packages will be installed:\n",
            "  freeglut3 libdrm-amdgpu1 libdrm-common libdrm-intel1 libdrm-nouveau2\n",
            "  libdrm-radeon1 libdrm2 libelf1 libgl1-mesa-dri libgl1-mesa-glx libglapi-mesa\n",
            "  libglu1-mesa libllvm5.0 libpciaccess0 libsensors4 libtxc-dxtn-s2tc\n",
            "  libx11-xcb1 libxcb-dri2-0 libxcb-dri3-0 libxcb-glx0 libxcb-present0\n",
            "  libxcb-sync1 libxdamage1 libxfixes3 libxi6 libxshmfence1 libxxf86vm1\n",
            "Suggested packages:\n",
            "  pciutils lm-sensors python-tk python-numpy libgle3\n",
            "The following NEW packages will be installed:\n",
            "  freeglut3 libdrm-amdgpu1 libdrm-common libdrm-intel1 libdrm-nouveau2\n",
            "  libdrm-radeon1 libdrm2 libelf1 libgl1-mesa-dri libgl1-mesa-glx libglapi-mesa\n",
            "  libglu1-mesa libllvm5.0 libpciaccess0 libsensors4 libtxc-dxtn-s2tc\n",
            "  libx11-xcb1 libxcb-dri2-0 libxcb-dri3-0 libxcb-glx0 libxcb-present0\n",
            "  libxcb-sync1 libxdamage1 libxfixes3 libxi6 libxshmfence1 libxxf86vm1\n",
            "  python-opengl\n",
            "0 upgraded, 28 newly installed, 0 to remove and 0 not upgraded.\n",
            "Need to get 20.7 MB of archives.\n",
            "After this operation, 194 MB of additional disk space will be used.\n",
            "Get:1 http://archive.ubuntu.com/ubuntu artful/main amd64 libxshmfence1 amd64 1.2-1 [5,042 B]\n",
            "Get:2 http://archive.ubuntu.com/ubuntu artful/main amd64 libxxf86vm1 amd64 1:1.1.4-1 [10.6 kB]\n",
            "Get:3 http://archive.ubuntu.com/ubuntu artful/main amd64 libelf1 amd64 0.170-0.1 [44.3 kB]\n",
            "Get:4 http://archive.ubuntu.com/ubuntu artful/main amd64 libdrm-common all 2.4.83-1 [4,938 B]\n",
            "Get:5 http://archive.ubuntu.com/ubuntu artful/main amd64 libdrm2 amd64 2.4.83-1 [30.6 kB]\n",
            "Get:6 http://archive.ubuntu.com/ubuntu artful-updates/main amd64 libglapi-mesa amd64 17.2.8-0ubuntu0~17.10.1 [22.2 kB]\n",
            "Get:7 http://archive.ubuntu.com/ubuntu artful/main amd64 libx11-xcb1 amd64 2:1.6.4-3 [9,626 B]\n",
            "Get:8 http://archive.ubuntu.com/ubuntu artful/main amd64 libxcb-dri2-0 amd64 1.12-1ubuntu1 [6,838 B]\n",
            "Get:9 http://archive.ubuntu.com/ubuntu artful/main amd64 libxcb-dri3-0 amd64 1.12-1ubuntu1 [5,156 B]\n",
            "Get:10 http://archive.ubuntu.com/ubuntu artful/main amd64 libxcb-glx0 amd64 1.12-1ubuntu1 [22.3 kB]\n",
            "Get:11 http://archive.ubuntu.com/ubuntu artful/main amd64 libxcb-present0 amd64 1.12-1ubuntu1 [5,436 B]\n",
            "Get:12 http://archive.ubuntu.com/ubuntu artful/main amd64 libxcb-sync1 amd64 1.12-1ubuntu1 [8,746 B]\n",
            "Get:13 http://archive.ubuntu.com/ubuntu artful/main amd64 libxdamage1 amd64 1:1.1.4-3 [6,934 B]\n",
            "Get:14 http://archive.ubuntu.com/ubuntu artful/main amd64 libxfixes3 amd64 1:5.0.3-1 [10.8 kB]\n",
            "Get:15 http://archive.ubuntu.com/ubuntu artful/main amd64 libdrm-amdgpu1 amd64 2.4.83-1 [18.5 kB]\n",
            "Get:16 http://archive.ubuntu.com/ubuntu artful/main amd64 libpciaccess0 amd64 0.13.4-1ubuntu1 [17.9 kB]\n",
            "Get:17 http://archive.ubuntu.com/ubuntu artful/main amd64 libdrm-intel1 amd64 2.4.83-1 [59.7 kB]\n",
            "Get:18 http://archive.ubuntu.com/ubuntu artful/main amd64 libdrm-nouveau2 amd64 2.4.83-1 [16.4 kB]\n",
            "Get:19 http://archive.ubuntu.com/ubuntu artful/main amd64 libdrm-radeon1 amd64 2.4.83-1 [21.6 kB]\n",
            "Get:20 http://archive.ubuntu.com/ubuntu artful/main amd64 libllvm5.0 amd64 1:5.0-3 [13.7 MB]\n",
            "Get:21 http://archive.ubuntu.com/ubuntu artful/main amd64 libsensors4 amd64 1:3.4.0-4 [28.8 kB]\n",
            "Get:22 http://archive.ubuntu.com/ubuntu artful-updates/main amd64 libgl1-mesa-dri amd64 17.2.8-0ubuntu0~17.10.1 [5,707 kB]\n",
            "Get:23 http://archive.ubuntu.com/ubuntu artful-updates/main amd64 libgl1-mesa-glx amd64 17.2.8-0ubuntu0~17.10.1 [130 kB]\n",
            "Get:24 http://archive.ubuntu.com/ubuntu artful/main amd64 libxi6 amd64 2:1.7.9-1 [29.2 kB]\n",
            "Get:25 http://archive.ubuntu.com/ubuntu artful/universe amd64 freeglut3 amd64 2.8.1-3 [73.6 kB]\n",
            "Get:26 http://archive.ubuntu.com/ubuntu artful/main amd64 libglu1-mesa amd64 9.0.0-2.1build1 [168 kB]\n",
            "Get:27 http://archive.ubuntu.com/ubuntu artful/universe amd64 python-opengl all 3.1.0+dfsg-1 [496 kB]\n",
            "Get:28 http://archive.ubuntu.com/ubuntu artful/main amd64 libtxc-dxtn-s2tc amd64 1.0+git20151227-2 [48.4 kB]\n",
            "Fetched 20.7 MB in 2s (8,295 kB/s)\n"
          ],
          "name": "stdout"
        },
        {
          "output_type": "stream",
          "text": [
            "Selecting previously unselected package libxshmfence1:amd64.\n",
            "(Reading database ... 16712 files and directories currently installed.)\n",
            "Preparing to unpack .../00-libxshmfence1_1.2-1_amd64.deb ...\n",
            "Unpacking libxshmfence1:amd64 (1.2-1) ...\n",
            "Selecting previously unselected package libxxf86vm1:amd64.\n",
            "Preparing to unpack .../01-libxxf86vm1_1%3a1.1.4-1_amd64.deb ...\n",
            "Unpacking libxxf86vm1:amd64 (1:1.1.4-1) ...\n",
            "Selecting previously unselected package libelf1:amd64.\n",
            "Preparing to unpack .../02-libelf1_0.170-0.1_amd64.deb ...\n",
            "Unpacking libelf1:amd64 (0.170-0.1) ...\n",
            "Selecting previously unselected package libdrm-common.\n",
            "Preparing to unpack .../03-libdrm-common_2.4.83-1_all.deb ...\n",
            "Unpacking libdrm-common (2.4.83-1) ...\n",
            "Selecting previously unselected package libdrm2:amd64.\n",
            "Preparing to unpack .../04-libdrm2_2.4.83-1_amd64.deb ...\n",
            "Unpacking libdrm2:amd64 (2.4.83-1) ...\n",
            "Selecting previously unselected package libglapi-mesa:amd64.\n",
            "Preparing to unpack .../05-libglapi-mesa_17.2.8-0ubuntu0~17.10.1_amd64.deb ...\n",
            "Unpacking libglapi-mesa:amd64 (17.2.8-0ubuntu0~17.10.1) ...\n",
            "Selecting previously unselected package libx11-xcb1:amd64.\n",
            "Preparing to unpack .../06-libx11-xcb1_2%3a1.6.4-3_amd64.deb ...\n",
            "Unpacking libx11-xcb1:amd64 (2:1.6.4-3) ...\n",
            "Selecting previously unselected package libxcb-dri2-0:amd64.\n",
            "Preparing to unpack .../07-libxcb-dri2-0_1.12-1ubuntu1_amd64.deb ...\n",
            "Unpacking libxcb-dri2-0:amd64 (1.12-1ubuntu1) ...\n",
            "Selecting previously unselected package libxcb-dri3-0:amd64.\n",
            "Preparing to unpack .../08-libxcb-dri3-0_1.12-1ubuntu1_amd64.deb ...\n",
            "Unpacking libxcb-dri3-0:amd64 (1.12-1ubuntu1) ...\n",
            "Selecting previously unselected package libxcb-glx0:amd64.\n",
            "Preparing to unpack .../09-libxcb-glx0_1.12-1ubuntu1_amd64.deb ...\n",
            "Unpacking libxcb-glx0:amd64 (1.12-1ubuntu1) ...\n",
            "Selecting previously unselected package libxcb-present0:amd64.\n",
            "Preparing to unpack .../10-libxcb-present0_1.12-1ubuntu1_amd64.deb ...\n",
            "Unpacking libxcb-present0:amd64 (1.12-1ubuntu1) ...\n",
            "Selecting previously unselected package libxcb-sync1:amd64.\n",
            "Preparing to unpack .../11-libxcb-sync1_1.12-1ubuntu1_amd64.deb ...\n",
            "Unpacking libxcb-sync1:amd64 (1.12-1ubuntu1) ...\n",
            "Selecting previously unselected package libxdamage1:amd64.\n",
            "Preparing to unpack .../12-libxdamage1_1%3a1.1.4-3_amd64.deb ...\n",
            "Unpacking libxdamage1:amd64 (1:1.1.4-3) ...\n",
            "Selecting previously unselected package libxfixes3:amd64.\n",
            "Preparing to unpack .../13-libxfixes3_1%3a5.0.3-1_amd64.deb ...\n",
            "Unpacking libxfixes3:amd64 (1:5.0.3-1) ...\n",
            "Selecting previously unselected package libdrm-amdgpu1:amd64.\n",
            "Preparing to unpack .../14-libdrm-amdgpu1_2.4.83-1_amd64.deb ...\n",
            "Unpacking libdrm-amdgpu1:amd64 (2.4.83-1) ...\n",
            "Selecting previously unselected package libpciaccess0:amd64.\n",
            "Preparing to unpack .../15-libpciaccess0_0.13.4-1ubuntu1_amd64.deb ...\n",
            "Unpacking libpciaccess0:amd64 (0.13.4-1ubuntu1) ...\n",
            "Selecting previously unselected package libdrm-intel1:amd64.\n",
            "Preparing to unpack .../16-libdrm-intel1_2.4.83-1_amd64.deb ...\n",
            "Unpacking libdrm-intel1:amd64 (2.4.83-1) ...\n",
            "Selecting previously unselected package libdrm-nouveau2:amd64.\n",
            "Preparing to unpack .../17-libdrm-nouveau2_2.4.83-1_amd64.deb ...\n",
            "Unpacking libdrm-nouveau2:amd64 (2.4.83-1) ...\n",
            "Selecting previously unselected package libdrm-radeon1:amd64.\n",
            "Preparing to unpack .../18-libdrm-radeon1_2.4.83-1_amd64.deb ...\n",
            "Unpacking libdrm-radeon1:amd64 (2.4.83-1) ...\n",
            "Selecting previously unselected package libllvm5.0:amd64.\n",
            "Preparing to unpack .../19-libllvm5.0_1%3a5.0-3_amd64.deb ...\n",
            "Unpacking libllvm5.0:amd64 (1:5.0-3) ...\n",
            "Selecting previously unselected package libsensors4:amd64.\n",
            "Preparing to unpack .../20-libsensors4_1%3a3.4.0-4_amd64.deb ...\n",
            "Unpacking libsensors4:amd64 (1:3.4.0-4) ...\n",
            "Selecting previously unselected package libgl1-mesa-dri:amd64.\n",
            "Preparing to unpack .../21-libgl1-mesa-dri_17.2.8-0ubuntu0~17.10.1_amd64.deb ...\n",
            "Unpacking libgl1-mesa-dri:amd64 (17.2.8-0ubuntu0~17.10.1) ...\n",
            "Selecting previously unselected package libgl1-mesa-glx:amd64.\n",
            "Preparing to unpack .../22-libgl1-mesa-glx_17.2.8-0ubuntu0~17.10.1_amd64.deb ...\n",
            "Unpacking libgl1-mesa-glx:amd64 (17.2.8-0ubuntu0~17.10.1) ...\n",
            "Selecting previously unselected package libxi6:amd64.\n",
            "Preparing to unpack .../23-libxi6_2%3a1.7.9-1_amd64.deb ...\n",
            "Unpacking libxi6:amd64 (2:1.7.9-1) ...\n",
            "Selecting previously unselected package freeglut3:amd64.\n",
            "Preparing to unpack .../24-freeglut3_2.8.1-3_amd64.deb ...\n",
            "Unpacking freeglut3:amd64 (2.8.1-3) ...\n",
            "Selecting previously unselected package libglu1-mesa:amd64.\n",
            "Preparing to unpack .../25-libglu1-mesa_9.0.0-2.1build1_amd64.deb ...\n",
            "Unpacking libglu1-mesa:amd64 (9.0.0-2.1build1) ...\n",
            "Selecting previously unselected package python-opengl.\n",
            "Preparing to unpack .../26-python-opengl_3.1.0+dfsg-1_all.deb ...\n",
            "Unpacking python-opengl (3.1.0+dfsg-1) ...\n",
            "Selecting previously unselected package libtxc-dxtn-s2tc:amd64.\n",
            "Preparing to unpack .../27-libtxc-dxtn-s2tc_1.0+git20151227-2_amd64.deb ...\n",
            "Unpacking libtxc-dxtn-s2tc:amd64 (1.0+git20151227-2) ...\n",
            "Setting up libxi6:amd64 (2:1.7.9-1) ...\n",
            "Setting up libxcb-present0:amd64 (1.12-1ubuntu1) ...\n",
            "Setting up libxcb-dri2-0:amd64 (1.12-1ubuntu1) ...\n",
            "Setting up libxcb-dri3-0:amd64 (1.12-1ubuntu1) ...\n",
            "Setting up libxcb-glx0:amd64 (1.12-1ubuntu1) ...\n"
          ],
          "name": "stdout"
        },
        {
          "output_type": "stream",
          "text": [
            "Setting up libxdamage1:amd64 (1:1.1.4-3) ...\r\n",
            "Setting up libxfixes3:amd64 (1:5.0.3-1) ...\n",
            "Setting up libelf1:amd64 (0.170-0.1) ...\n",
            "Setting up libxshmfence1:amd64 (1.2-1) ...\n",
            "Setting up libllvm5.0:amd64 (1:5.0-3) ...\n",
            "Setting up libtxc-dxtn-s2tc:amd64 (1.0+git20151227-2) ...\n",
            "update-alternatives: using /usr/lib/x86_64-linux-gnu/s2tc/libtxc_dxtn.so to provide /usr/lib/x86_64-linux-gnu/libtxc_dxtn.so (libtxc-dxtn-x86_64-linux-gnu) in auto mode\n",
            "Setting up libglapi-mesa:amd64 (17.2.8-0ubuntu0~17.10.1) ...\n",
            "Setting up libdrm-common (2.4.83-1) ...\n",
            "Setting up libxcb-sync1:amd64 (1.12-1ubuntu1) ...\n",
            "Setting up libx11-xcb1:amd64 (2:1.6.4-3) ...\n",
            "Processing triggers for libc-bin (2.26-0ubuntu2.1) ...\n",
            "Setting up libpciaccess0:amd64 (0.13.4-1ubuntu1) ...\n",
            "Setting up libsensors4:amd64 (1:3.4.0-4) ...\n",
            "Setting up libxxf86vm1:amd64 (1:1.1.4-1) ...\n",
            "Setting up libdrm2:amd64 (2.4.83-1) ...\n",
            "Setting up libdrm-intel1:amd64 (2.4.83-1) ...\n",
            "Setting up libdrm-radeon1:amd64 (2.4.83-1) ...\n",
            "Setting up libdrm-nouveau2:amd64 (2.4.83-1) ...\n",
            "Setting up libdrm-amdgpu1:amd64 (2.4.83-1) ...\n",
            "Setting up libgl1-mesa-dri:amd64 (17.2.8-0ubuntu0~17.10.1) ...\n",
            "Setting up libgl1-mesa-glx:amd64 (17.2.8-0ubuntu0~17.10.1) ...\n",
            "update-alternatives: using /usr/lib/x86_64-linux-gnu/mesa/ld.so.conf to provide /etc/ld.so.conf.d/x86_64-linux-gnu_GL.conf (x86_64-linux-gnu_gl_conf) in auto mode\n",
            "Setting up libglu1-mesa:amd64 (9.0.0-2.1build1) ...\n",
            "Setting up freeglut3:amd64 (2.8.1-3) ...\n",
            "Setting up python-opengl (3.1.0+dfsg-1) ...\n",
            "Processing triggers for libc-bin (2.26-0ubuntu2.1) ...\n"
          ],
          "name": "stdout"
        }
      ]
    },
    {
      "metadata": {
        "id": "uVbZqoCxQE52",
        "colab_type": "text"
      },
      "cell_type": "markdown",
      "source": [
        "## Code\n",
        "\n",
        "Following function implements the whole actor-critic network. This is not the best way to do it, but works well in the context of a self-contained Python notebook."
      ]
    },
    {
      "metadata": {
        "id": "Jhp6-2qc4J2f",
        "colab_type": "code",
        "colab": {}
      },
      "cell_type": "code",
      "source": [
        "import gym\n",
        "from gym.envs.registration import register, spec\n",
        "import numpy as np\n",
        "import tensorflow as tf\n",
        "import time\n",
        "import matplotlib.pyplot as plt\n",
        "\n",
        "def actor_critic(epochs=1000, gamma = 0.9, lamda = 0.3, lrc = 0.001, lra = 0.0001, useETforA=False, useETforC=False, verbose=True):\n",
        "    tf.reset_default_graph()\n",
        "    with tf.Session() as sess:\n",
        "        # Get the environment, and seed with the same so that results are comparable\n",
        "        env = gym.make('FrozenLake-v0')\n",
        "        env.seed(1)        \n",
        "        numOfStates = env.observation_space.n\n",
        "        numOfActions = env.action_space.n\n",
        "        \n",
        "        fl = 200\n",
        "        sl = 100\n",
        "        # Create the Actor Network - 2 layers 200 first layer + 100 second layer + 16 output states\n",
        "        with tf.variable_scope(\"Actor\"):\n",
        "            inputsA = tf.placeholder(tf.float32, shape=[None, numOfStates])\n",
        "            # Layer 1 \n",
        "            w1a =  tf.get_variable(\"w1a\", shape=[numOfStates,fl], initializer=tf.contrib.layers.xavier_initializer(seed=1))\n",
        "            b1a = tf.Variable(tf.zeros([fl]))\n",
        "            z1a = tf.matmul(inputsA,w1a)+b1a\n",
        "            l1a = tf.nn.tanh(z1a)\n",
        "            # Layer 2            \n",
        "            w2a =  tf.get_variable(\"w2a\", shape=[fl,sl], initializer=tf.contrib.layers.xavier_initializer(seed=1))\n",
        "            b2a = tf.Variable(tf.zeros([sl]))\n",
        "            z2a = tf.matmul(l1a,w2a)+b2a\n",
        "            l2a = tf.nn.tanh(z2a)\n",
        "            #output layer\n",
        "            w3a = tf.get_variable(\"w3a\", shape=[sl,numOfActions], initializer=tf.contrib.layers.xavier_initializer(seed=1))\n",
        "            b3a = tf.Variable(tf.zeros([numOfActions]))\n",
        "            z3a = tf.matmul(l2a,w3a) + b3a\n",
        "            actorOutput = tf.squeeze(tf.nn.softmax(z3a))\n",
        "            \n",
        "            actorTdError = tf.placeholder(dtype=tf.float32)\n",
        "            actorActionHist = tf.placeholder(dtype=tf.int64)\n",
        "            actorPickedActionProb = tf.gather(actorOutput, actorActionHist)\n",
        "            actorLossFcn = -tf.log(actorPickedActionProb) * actorTdError\n",
        "            actorOptimizer = tf.train.AdamOptimizer(lra)\n",
        "            \n",
        "            # If using eligibility traces\n",
        "            if useETforA:\n",
        "                tvars = tf.trainable_variables()\n",
        "                grads = tf.gradients(actorOutput, tvars)\n",
        "                for grad, var in zip(grads, tvars):\n",
        "                    with tf.variable_scope('traceA'):\n",
        "                      traceA = tf.Variable(tf.zeros(grad.get_shape()), trainable=False, name='traceA')\n",
        "                      traceA_op = traceA.assign((lamda * traceA) + grad)\n",
        "                    grad_trace = lra * actorLossFcn * traceA_op\n",
        "                    var.assign(grad_trace)\n",
        "                    \n",
        "            actorTrain = actorOptimizer.minimize(actorLossFcn)\n",
        "            \n",
        "        # Create the Critic Network - 2 layers 200 first layer + 100 second layer + 1 output state\n",
        "        with tf.variable_scope(\"Critic\"):\n",
        "            inputsC = tf.placeholder(tf.float32, shape=[None, numOfStates])\n",
        "            # Layer 1 \n",
        "            w1c = tf.get_variable(\"w1c\", shape=[numOfStates,fl], initializer=tf.contrib.layers.xavier_initializer(seed=1))\n",
        "            b1c = tf.Variable(tf.zeros([fl]))\n",
        "            z1c = tf.matmul(inputsC,w1c)+b1c\n",
        "            l1c = tf.nn.relu(z1c)\n",
        "            # Layer 2            \n",
        "            w2c = tf.get_variable(\"w2c\", shape=[fl,sl], initializer=tf.contrib.layers.xavier_initializer(seed=1))\n",
        "            b2c = tf.Variable(tf.zeros([sl]))\n",
        "            z2c = tf.matmul(l1c,w2c)+b2c\n",
        "            l2c = tf.nn.relu(z2c)\n",
        "            #output layer\n",
        "            w3c = tf.get_variable(\"w3c\", shape=[sl,1], initializer=tf.contrib.layers.xavier_initializer(seed=1))\n",
        "            b3c = tf.Variable(tf.zeros([1]))\n",
        "            z3c = tf.matmul(l2c,w3c) + b3c\n",
        "            criticOutput = z3c\n",
        "            \n",
        "            criticPredictedQ = tf.placeholder(tf.float32)\n",
        "            criticLossFcn = tf.squared_difference(criticPredictedQ, criticOutput)\n",
        "            criticOptimizer = tf.train.AdamOptimizer(lrc))\n",
        "            \n",
        "            # If using eligibility traces\n",
        "            if useETforC:\n",
        "                tvars = tf.trainable_variables()\n",
        "                grads = tf.gradients(criticOutput, tvars)\n",
        "                for grad, var in zip(grads, tvars):\n",
        "                  if grad != None:\n",
        "                    with tf.variable_scope('traceC'):\n",
        "                      traceC = tf.Variable(tf.zeros(grad.get_shape()), trainable=False, name='traceC')\n",
        "                      traceC_op = traceC.assign((lamda * traceC) + grad)\n",
        "                    grad_trace = lrc * criticLossFcn * traceC\n",
        "                    var.assign(grad_trace)\n",
        "            criticTrain = criticOptimizer.minimize(criticLossFcn)\n",
        "        \n",
        "        sess.run(tf.global_variables_initializer())\n",
        "        goal = 0\n",
        "        last_goal = 0\n",
        "        rewards = []\n",
        "        for i in range(epochs):\n",
        "            state = np.zeros(numOfStates)\n",
        "            state[env.reset()] = 1\n",
        "            done = False\n",
        "            step = 0\n",
        "            ep_reward = 0\n",
        "            while (not done):\n",
        "                # Randomly pick an action with actionProbs, take that action, and observe reward             \n",
        "                actionProbs = sess.run(actorOutput, feed_dict={inputsA: np.reshape(state,(1,numOfStates))})\n",
        "                action = np.random.choice(np.arange(len(actionProbs)), p=actionProbs)\n",
        "                tempStep, reward, done, info = env.step(action)\n",
        "                stateP = np.zeros(numOfStates)\n",
        "                stateP[tempStep] = 1\n",
        "                step += 1\n",
        "                \n",
        "                # Keep track of the times we reached the final state\n",
        "                if tempStep == (numOfStates-1):\n",
        "                    goal += 1\n",
        "      \n",
        "                # Train the actor and critic network\n",
        "                V = sess.run(criticOutput, feed_dict={inputsC: np.reshape(state,(1,numOfStates))})\n",
        "                V_next = sess.run(criticOutput, feed_dict={inputsC: np.reshape(stateP,(1,numOfStates))})\n",
        "            \n",
        "                if done:\n",
        "                    tdTarget = reward\n",
        "                    tdError = reward - V                      \n",
        "                else:\n",
        "                    tdTarget = reward + gamma*V_next\n",
        "                    tdError = reward + gamma*V_next - V\n",
        "\n",
        "                sess.run([criticOutput, criticLossFcn, criticTrain], feed_dict={inputsC: np.reshape(state,(1,numOfStates)),criticPredictedQ: np.reshape(tdTarget, (1, 1))})\n",
        "                sess.run([actorOutput, actorLossFcn, actorTrain], feed_dict={inputsA: np.reshape(state,(1,numOfStates)),actorActionHist: np.reshape(action, (1, 1)), actorTdError: np.reshape(tdError, (1, 1))})\n",
        "                state = stateP\n",
        "                \n",
        "                # Keep track of the reward obtained in this episode\n",
        "                ep_reward = ep_reward + reward\n",
        "            # After the episode ends, add the episode to a list for a visual plot at the end\n",
        "            rewards.append(ep_reward)\n",
        "            \n",
        "            # Print out results every 200 episodes\n",
        "            if verbose and (((i+1)%200) == 0):\n",
        "                print('episode', i+1, 'Total reward achieved:', goal,'Efficiency', round(100.*((goal-last_goal)/(200)),0), '%' )\n",
        "                last_goal = goal\n",
        "                \n",
        "        # Close the session and plot overall rewards\n",
        "        sess.close()\n",
        "        if verbose:\n",
        "            plt.plot(rewards)\n",
        "    return rewards, goal"
      ],
      "execution_count": 0,
      "outputs": []
    },
    {
      "metadata": {
        "id": "RTqnldOsQpSx",
        "colab_type": "text"
      },
      "cell_type": "markdown",
      "source": [
        "## Results\n",
        "\n",
        "We first run it only using one-step returns. Results are shown below, where a printout is displayed after every 200 iterations, along with the total reward achieved and the efficiency (reward/# of episodes) obtained for the last 200 episodes. \n",
        "\n",
        "After about 500 epiodes, the agent achieves a decent performance. \n",
        "\n",
        "We get the highest total reward in the case of using both eligibility traces. It performs slightly worse without the eligibility traces and then again slightly worse when we remove the eligibility traces all together. "
      ]
    },
    {
      "metadata": {
        "id": "mwaKkQ9s9uyT",
        "colab_type": "code",
        "colab": {
          "base_uri": "https://localhost:8080/",
          "height": 673
        },
        "outputId": "4a2b8dad-49d8-47a8-823c-2886fbd4a43c"
      },
      "cell_type": "code",
      "source": [
        "print(\"First with no eligibility traces!\")\n",
        "r,g = actor_critic(epochs=3000, useETforA=False, useETforC=False)"
      ],
      "execution_count": 58,
      "outputs": [
        {
          "output_type": "stream",
          "text": [
            "First with no eligibility traces!\n"
          ],
          "name": "stdout"
        },
        {
          "output_type": "stream",
          "text": [
            "/usr/local/lib/python3.6/dist-packages/tensorflow/python/ops/gradients_impl.py:98: UserWarning: Converting sparse IndexedSlices to a dense Tensor of unknown shape. This may consume a large amount of memory.\n",
            "  \"Converting sparse IndexedSlices to a dense Tensor of unknown shape. \"\n"
          ],
          "name": "stderr"
        },
        {
          "output_type": "stream",
          "text": [
            "episode 200 Total reward achieved: 6 Efficiency 3.0 %\n",
            "episode 400 Total reward achieved: 11 Efficiency 2.0 %\n",
            "episode 600 Total reward achieved: 21 Efficiency 5.0 %\n",
            "episode 800 Total reward achieved: 69 Efficiency 24.0 %\n",
            "episode 1000 Total reward achieved: 144 Efficiency 38.0 %\n",
            "episode 1200 Total reward achieved: 260 Efficiency 58.0 %\n",
            "episode 1400 Total reward achieved: 394 Efficiency 67.0 %\n",
            "episode 1600 Total reward achieved: 534 Efficiency 70.0 %\n",
            "episode 1800 Total reward achieved: 691 Efficiency 78.0 %\n",
            "episode 2000 Total reward achieved: 834 Efficiency 72.0 %\n",
            "episode 2200 Total reward achieved: 975 Efficiency 70.0 %\n",
            "episode 2400 Total reward achieved: 1119 Efficiency 72.0 %\n",
            "episode 2600 Total reward achieved: 1264 Efficiency 72.0 %\n",
            "episode 2800 Total reward achieved: 1407 Efficiency 72.0 %\n",
            "episode 3000 Total reward achieved: 1559 Efficiency 76.0 %\n"
          ],
          "name": "stdout"
        },
        {
          "output_type": "display_data",
          "data": {
            "image/png": "[encoded data removed]",
            "text/plain": [
              "<matplotlib.figure.Figure at 0x7ff1f1cdddd8>"
            ]
          },
          "metadata": {
            "tags": []
          }
        }
      ]
    },
    {
      "metadata": {
        "id": "CgvVx3ASRknm",
        "colab_type": "code",
        "colab": {
          "base_uri": "https://localhost:8080/",
          "height": 673
        },
        "outputId": "23a54493-4823-415e-a017-85268ead4e5e"
      },
      "cell_type": "code",
      "source": [
        "print(\"Now, with both eligibility traces!\")\n",
        "r,g = actor_critic(epochs=3000, useETforA=True, useETforC=True)"
      ],
      "execution_count": 54,
      "outputs": [
        {
          "output_type": "stream",
          "text": [
            "Now, with both eligibility traces!\n"
          ],
          "name": "stdout"
        },
        {
          "output_type": "stream",
          "text": [
            "/usr/local/lib/python3.6/dist-packages/tensorflow/python/ops/gradients_impl.py:98: UserWarning: Converting sparse IndexedSlices to a dense Tensor of unknown shape. This may consume a large amount of memory.\n",
            "  \"Converting sparse IndexedSlices to a dense Tensor of unknown shape. \"\n"
          ],
          "name": "stderr"
        },
        {
          "output_type": "stream",
          "text": [
            "episode 200 Total reward achieved: 5 Efficiency 2.0 %\n",
            "episode 400 Total reward achieved: 9 Efficiency 2.0 %\n",
            "episode 600 Total reward achieved: 13 Efficiency 2.0 %\n",
            "episode 800 Total reward achieved: 63 Efficiency 25.0 %\n",
            "episode 1000 Total reward achieved: 209 Efficiency 73.0 %\n",
            "episode 1200 Total reward achieved: 346 Efficiency 68.0 %\n",
            "episode 1400 Total reward achieved: 476 Efficiency 65.0 %\n",
            "episode 1600 Total reward achieved: 611 Efficiency 68.0 %\n",
            "episode 1800 Total reward achieved: 752 Efficiency 70.0 %\n",
            "episode 2000 Total reward achieved: 887 Efficiency 68.0 %\n",
            "episode 2200 Total reward achieved: 1035 Efficiency 74.0 %\n",
            "episode 2400 Total reward achieved: 1179 Efficiency 72.0 %\n",
            "episode 2600 Total reward achieved: 1319 Efficiency 70.0 %\n",
            "episode 2800 Total reward achieved: 1464 Efficiency 72.0 %\n",
            "episode 3000 Total reward achieved: 1611 Efficiency 74.0 %\n"
          ],
          "name": "stdout"
        },
        {
          "output_type": "display_data",
          "data": {
            "image/png": "[encoded data removed]",
            "text/plain": [
              "<matplotlib.figure.Figure at 0x7ff1eee65630>"
            ]
          },
          "metadata": {
            "tags": []
          }
        }
      ]
    },
    {
      "metadata": {
        "id": "Q-ibmHQoRzpv",
        "colab_type": "code",
        "colab": {
          "base_uri": "https://localhost:8080/",
          "height": 673
        },
        "outputId": "3d37a741-c541-4e31-b13b-268327774f03"
      },
      "cell_type": "code",
      "source": [
        "print(\"Now, with only critic eligibility traces!\")\n",
        "r, g = actor_critic(epochs=3000, useETforC=True)"
      ],
      "execution_count": 55,
      "outputs": [
        {
          "output_type": "stream",
          "text": [
            "Now, with only critic eligibility traces!\n"
          ],
          "name": "stdout"
        },
        {
          "output_type": "stream",
          "text": [
            "/usr/local/lib/python3.6/dist-packages/tensorflow/python/ops/gradients_impl.py:98: UserWarning: Converting sparse IndexedSlices to a dense Tensor of unknown shape. This may consume a large amount of memory.\n",
            "  \"Converting sparse IndexedSlices to a dense Tensor of unknown shape. \"\n"
          ],
          "name": "stderr"
        },
        {
          "output_type": "stream",
          "text": [
            "episode 200 Total reward achieved: 7 Efficiency 4.0 %\n",
            "episode 400 Total reward achieved: 10 Efficiency 2.0 %\n",
            "episode 600 Total reward achieved: 17 Efficiency 4.0 %\n",
            "episode 800 Total reward achieved: 38 Efficiency 10.0 %\n",
            "episode 1000 Total reward achieved: 134 Efficiency 48.0 %\n",
            "episode 1200 Total reward achieved: 272 Efficiency 69.0 %\n",
            "episode 1400 Total reward achieved: 409 Efficiency 68.0 %\n",
            "episode 1600 Total reward achieved: 555 Efficiency 73.0 %\n",
            "episode 1800 Total reward achieved: 701 Efficiency 73.0 %\n",
            "episode 2000 Total reward achieved: 847 Efficiency 73.0 %\n",
            "episode 2200 Total reward achieved: 1007 Efficiency 80.0 %\n",
            "episode 2400 Total reward achieved: 1155 Efficiency 74.0 %\n",
            "episode 2600 Total reward achieved: 1301 Efficiency 73.0 %\n",
            "episode 2800 Total reward achieved: 1451 Efficiency 75.0 %\n",
            "episode 3000 Total reward achieved: 1599 Efficiency 74.0 %\n"
          ],
          "name": "stdout"
        },
        {
          "output_type": "display_data",
          "data": {
            "image/png": "[encoded data removed]",
            "text/plain": [
              "<matplotlib.figure.Figure at 0x7ff1f1a830b8>"
            ]
          },
          "metadata": {
            "tags": []
          }
        }
      ]
    },
    {
      "metadata": {
        "id": "hjSiNCb6mbf7",
        "colab_type": "text"
      },
      "cell_type": "markdown",
      "source": [
        "## Effect of $\\gamma$ and $\\lambda$\n",
        "\n",
        "Following are the results for effect of varying $\\gamma$ and $\\lambda$ on total reward obtained. \n",
        "\n",
        "The effect of these values can be easily seen in the plots below. In both cases a higher value seem to perform the best.  "
      ]
    },
    {
      "metadata": {
        "id": "ylHvRTM0BSir",
        "colab_type": "code",
        "colab": {
          "base_uri": "https://localhost:8080/",
          "height": 789
        },
        "outputId": "a866ee50-bfc0-43ae-c199-7929c40d936c"
      },
      "cell_type": "code",
      "source": [
        "ltests = [0.01, 0.05, 0.1, 0.3, 0.8, 0.9, 0.99]\n",
        "gtests = [0.01, 0.05, 0.1, 0.3, 0.8, 0.9, 0.99]\n",
        "gResults = []\n",
        "lRestults = []\n",
        "\n",
        "for lamda in ltests:\n",
        "    _, temp = actor_critic(epochs=1000, lamda=lamda, useETforC=True,verbose=False)\n",
        "    lRestults.append(temp)\n",
        "    \n",
        "for gamma in gtests:\n",
        "    _, temp = actor_critic(epochs=1000, gamma=gamma, useETforC=True,verbose=False)\n",
        "    gResults.append(temp)\n",
        "    \n",
        "plt.plot(ltests, lRestults)\n",
        "plt.title('Total Reward vs Lambda')\n",
        "plt.xlabel('Lambda')\n",
        "plt.ylabel('Total Reward (in 1000 episodes)')\n",
        "plt.show()\n",
        "\n",
        "\n",
        "plt.plot(gtests, gResults)\n",
        "plt.title('Total Reward vs Gamma')\n",
        "plt.xlabel('Gamma')\n",
        "plt.ylabel('Total Reward (in 1000 episodes)')\n",
        "plt.show()"
      ],
      "execution_count": 73,
      "outputs": [
        {
          "output_type": "stream",
          "text": [
            "/usr/local/lib/python3.6/dist-packages/tensorflow/python/ops/gradients_impl.py:98: UserWarning: Converting sparse IndexedSlices to a dense Tensor of unknown shape. This may consume a large amount of memory.\n",
            "  \"Converting sparse IndexedSlices to a dense Tensor of unknown shape. \"\n"
          ],
          "name": "stderr"
        },
        {
          "output_type": "display_data",
          "data": {
            "image/png": "[encoded data removed]",
            "text/plain": [
              "<matplotlib.figure.Figure at 0x7ff1ee5a3358>"
            ]
          },
          "metadata": {
            "tags": []
          }
        },
        {
          "output_type": "display_data",
          "data": {
            "image/png": "[encoded data removed]",
            "text/plain": [
              "<matplotlib.figure.Figure at 0x7ff1eeeb1fd0>"
            ]
          },
          "metadata": {
            "tags": []
          }
        }
      ]
    }
  ]
}